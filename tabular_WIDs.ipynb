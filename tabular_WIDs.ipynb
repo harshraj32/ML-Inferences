{
 "cells": [
  {
   "cell_type": "code",
   "execution_count": 1,
   "id": "0b4c1dc2",
   "metadata": {},
   "outputs": [],
   "source": [
    "import pandas as pd\n",
    "import numpy as np"
   ]
  },
  {
   "cell_type": "code",
   "execution_count": 64,
   "id": "1b686ce0",
   "metadata": {},
   "outputs": [],
   "source": [
    "csv_file_path = r'./training_wids2024C1.csv'\n",
    "df = pd.read_csv(csv_file_path)\n"
   ]
  },
  {
   "cell_type": "code",
   "execution_count": 82,
   "id": "03dd095c",
   "metadata": {},
   "outputs": [
    {
     "name": "stdout",
     "output_type": "stream",
     "text": [
      "1    Malig neoplm of upper-outer quadrant of right ...\n",
      "2    Malignant neoplasm of central portion of left ...\n",
      "3    Malig neoplasm of upper-inner quadrant of left...\n",
      "4    Malignant neoplasm of breast (female), unspeci...\n",
      "5    Malignant neoplasm of breast (female), unspeci...\n",
      "6    Malignant neoplasm of unspecified site of left...\n",
      "7    Malig neoplasm of lower-outer quadrant of left...\n",
      "8    Malignant neoplasm of upper-outer quadrant of ...\n",
      "9    Malignant neoplasm of unspecified site of left...\n",
      "Name: breast_cancer_diagnosis_desc, dtype: object\n"
     ]
    }
   ],
   "source": [
    "df.head()\n"
   ]
  },
  {
   "cell_type": "code",
   "execution_count": 135,
   "id": "d1ea6644",
   "metadata": {},
   "outputs": [
    {
     "name": "stdout",
     "output_type": "stream",
     "text": [
      "patient_id                          0\n",
      "patient_zip3                        0\n",
      "patient_age                         0\n",
      "patient_gender                      0\n",
      "breast_cancer_diagnosis_code        0\n",
      "breast_cancer_diagnosis_desc        0\n",
      "metastatic_cancer_diagnosis_code    0\n",
      "population                          1\n",
      "density                             1\n",
      "age_median                          1\n",
      "age_under_10                        1\n",
      "age_10_to_19                        1\n",
      "age_20s                             1\n",
      "age_30s                             1\n",
      "age_40s                             1\n",
      "age_50s                             1\n",
      "age_60s                             1\n",
      "age_70s                             1\n",
      "age_over_80                         1\n",
      "male                                1\n",
      "female                              1\n",
      "married                             1\n",
      "divorced                            1\n",
      "never_married                       1\n",
      "widowed                             1\n",
      "family_size                         4\n",
      "family_dual_income                  4\n",
      "income_household_median             4\n",
      "income_household_under_5            4\n",
      "income_household_5_to_10            4\n",
      "income_household_10_to_15           4\n",
      "income_household_15_to_20           4\n",
      "income_household_20_to_25           4\n",
      "income_household_25_to_35           4\n",
      "income_household_35_to_50           4\n",
      "income_household_50_to_75           4\n",
      "income_household_75_to_100          4\n",
      "income_household_100_to_150         4\n",
      "income_household_150_over           4\n",
      "income_household_six_figure         4\n",
      "income_individual_median            1\n",
      "home_ownership                      4\n",
      "housing_units                       1\n",
      "home_value                          4\n",
      "rent_median                         4\n",
      "rent_burden                         4\n",
      "education_less_highschool           1\n",
      "education_highschool                1\n",
      "education_some_college              1\n",
      "education_bachelors                 1\n",
      "education_graduate                  1\n",
      "education_college_or_above          1\n",
      "education_stem_degree               1\n",
      "labor_force_participation           1\n",
      "unemployment_rate                   1\n",
      "self_employed                       4\n",
      "farmer                              4\n",
      "race_white                          1\n",
      "race_black                          1\n",
      "race_asian                          1\n",
      "race_native                         1\n",
      "race_pacific                        1\n",
      "race_other                          1\n",
      "race_multiple                       1\n",
      "hispanic                            1\n",
      "disabled                            1\n",
      "poverty                             4\n",
      "limited_english                     4\n",
      "commute_time                        1\n",
      "health_uninsured                    1\n",
      "veteran                             1\n",
      "DiagPeriodL90D                      0\n",
      "dtype: int64\n"
     ]
    }
   ],
   "source": [
    "pd.set_option('display.max_rows', None)\n",
    "\n",
    "\n",
    "nullcounts = df.isnull().sum()\n",
    "null_counts_filtered = nullcounts[nullcounts <10]\n",
    "\n",
    "# Print the filtered result\n",
    "print(null_counts_filtered)\n",
    "\n",
    "pd.reset_option('display.max_rows')\n"
   ]
  },
  {
   "cell_type": "code",
   "execution_count": 25,
   "id": "7c465c91",
   "metadata": {},
   "outputs": [
    {
     "data": {
      "text/plain": [
       "(12906, 83)"
      ]
     },
     "execution_count": 25,
     "metadata": {},
     "output_type": "execute_result"
    }
   ],
   "source": [
    "df.shape"
   ]
  },
  {
   "cell_type": "code",
   "execution_count": 30,
   "id": "c34b611c",
   "metadata": {},
   "outputs": [
    {
     "data": {
      "text/html": [
       "<div>\n",
       "<style scoped>\n",
       "    .dataframe tbody tr th:only-of-type {\n",
       "        vertical-align: middle;\n",
       "    }\n",
       "\n",
       "    .dataframe tbody tr th {\n",
       "        vertical-align: top;\n",
       "    }\n",
       "\n",
       "    .dataframe thead th {\n",
       "        text-align: right;\n",
       "    }\n",
       "</style>\n",
       "<table border=\"1\" class=\"dataframe\">\n",
       "  <thead>\n",
       "    <tr style=\"text-align: right;\">\n",
       "      <th></th>\n",
       "      <th>patient_id</th>\n",
       "      <th>patient_race</th>\n",
       "      <th>payer_type</th>\n",
       "      <th>patient_state</th>\n",
       "      <th>patient_zip3</th>\n",
       "      <th>patient_age</th>\n",
       "      <th>patient_gender</th>\n",
       "      <th>bmi</th>\n",
       "      <th>breast_cancer_diagnosis_code</th>\n",
       "      <th>breast_cancer_diagnosis_desc</th>\n",
       "      <th>...</th>\n",
       "      <th>disabled</th>\n",
       "      <th>poverty</th>\n",
       "      <th>limited_english</th>\n",
       "      <th>commute_time</th>\n",
       "      <th>health_uninsured</th>\n",
       "      <th>veteran</th>\n",
       "      <th>Ozone</th>\n",
       "      <th>PM25</th>\n",
       "      <th>N02</th>\n",
       "      <th>DiagPeriodL90D</th>\n",
       "    </tr>\n",
       "  </thead>\n",
       "  <tbody>\n",
       "    <tr>\n",
       "      <th>12901</th>\n",
       "      <td>674178</td>\n",
       "      <td>White</td>\n",
       "      <td>NaN</td>\n",
       "      <td>OH</td>\n",
       "      <td>436</td>\n",
       "      <td>50</td>\n",
       "      <td>F</td>\n",
       "      <td>32.11</td>\n",
       "      <td>C50411</td>\n",
       "      <td>Malig neoplm of upper-outer quadrant of right ...</td>\n",
       "      <td>...</td>\n",
       "      <td>17.400000</td>\n",
       "      <td>23.600000</td>\n",
       "      <td>0.864706</td>\n",
       "      <td>19.841176</td>\n",
       "      <td>6.300000</td>\n",
       "      <td>6.247059</td>\n",
       "      <td>38.753055</td>\n",
       "      <td>8.068682</td>\n",
       "      <td>21.140731</td>\n",
       "      <td>1</td>\n",
       "    </tr>\n",
       "    <tr>\n",
       "      <th>12902</th>\n",
       "      <td>452909</td>\n",
       "      <td>NaN</td>\n",
       "      <td>COMMERCIAL</td>\n",
       "      <td>CA</td>\n",
       "      <td>945</td>\n",
       "      <td>50</td>\n",
       "      <td>F</td>\n",
       "      <td>NaN</td>\n",
       "      <td>C50912</td>\n",
       "      <td>Malignant neoplasm of unspecified site of left...</td>\n",
       "      <td>...</td>\n",
       "      <td>11.243210</td>\n",
       "      <td>7.837037</td>\n",
       "      <td>5.411250</td>\n",
       "      <td>34.700000</td>\n",
       "      <td>3.845679</td>\n",
       "      <td>5.671605</td>\n",
       "      <td>36.469947</td>\n",
       "      <td>6.265266</td>\n",
       "      <td>10.728732</td>\n",
       "      <td>1</td>\n",
       "    </tr>\n",
       "    <tr>\n",
       "      <th>12903</th>\n",
       "      <td>357486</td>\n",
       "      <td>NaN</td>\n",
       "      <td>COMMERCIAL</td>\n",
       "      <td>CA</td>\n",
       "      <td>926</td>\n",
       "      <td>61</td>\n",
       "      <td>F</td>\n",
       "      <td>29.24</td>\n",
       "      <td>C50912</td>\n",
       "      <td>Malignant neoplasm of unspecified site of left...</td>\n",
       "      <td>...</td>\n",
       "      <td>8.845238</td>\n",
       "      <td>8.688095</td>\n",
       "      <td>5.280952</td>\n",
       "      <td>27.561905</td>\n",
       "      <td>4.404762</td>\n",
       "      <td>4.809524</td>\n",
       "      <td>42.070075</td>\n",
       "      <td>7.229393</td>\n",
       "      <td>15.894123</td>\n",
       "      <td>1</td>\n",
       "    </tr>\n",
       "    <tr>\n",
       "      <th>12904</th>\n",
       "      <td>935417</td>\n",
       "      <td>NaN</td>\n",
       "      <td>NaN</td>\n",
       "      <td>NY</td>\n",
       "      <td>112</td>\n",
       "      <td>37</td>\n",
       "      <td>F</td>\n",
       "      <td>31.00</td>\n",
       "      <td>1749</td>\n",
       "      <td>Malignant neoplasm of breast (female), unspeci...</td>\n",
       "      <td>...</td>\n",
       "      <td>10.194737</td>\n",
       "      <td>18.642105</td>\n",
       "      <td>14.173684</td>\n",
       "      <td>42.502632</td>\n",
       "      <td>6.392105</td>\n",
       "      <td>1.755263</td>\n",
       "      <td>37.722740</td>\n",
       "      <td>7.879795</td>\n",
       "      <td>27.496367</td>\n",
       "      <td>0</td>\n",
       "    </tr>\n",
       "    <tr>\n",
       "      <th>12905</th>\n",
       "      <td>179597</td>\n",
       "      <td>Hispanic</td>\n",
       "      <td>MEDICAID</td>\n",
       "      <td>FL</td>\n",
       "      <td>336</td>\n",
       "      <td>29</td>\n",
       "      <td>F</td>\n",
       "      <td>NaN</td>\n",
       "      <td>C50412</td>\n",
       "      <td>Malig neoplasm of upper-outer quadrant of left...</td>\n",
       "      <td>...</td>\n",
       "      <td>10.988889</td>\n",
       "      <td>18.470370</td>\n",
       "      <td>11.777778</td>\n",
       "      <td>24.951852</td>\n",
       "      <td>11.759259</td>\n",
       "      <td>6.577778</td>\n",
       "      <td>37.228624</td>\n",
       "      <td>8.652507</td>\n",
       "      <td>16.436409</td>\n",
       "      <td>1</td>\n",
       "    </tr>\n",
       "  </tbody>\n",
       "</table>\n",
       "<p>5 rows × 83 columns</p>\n",
       "</div>"
      ],
      "text/plain": [
       "       patient_id patient_race  payer_type patient_state  patient_zip3  \\\n",
       "12901      674178        White         NaN            OH           436   \n",
       "12902      452909          NaN  COMMERCIAL            CA           945   \n",
       "12903      357486          NaN  COMMERCIAL            CA           926   \n",
       "12904      935417          NaN         NaN            NY           112   \n",
       "12905      179597     Hispanic    MEDICAID            FL           336   \n",
       "\n",
       "       patient_age patient_gender    bmi breast_cancer_diagnosis_code  \\\n",
       "12901           50              F  32.11                       C50411   \n",
       "12902           50              F    NaN                       C50912   \n",
       "12903           61              F  29.24                       C50912   \n",
       "12904           37              F  31.00                         1749   \n",
       "12905           29              F    NaN                       C50412   \n",
       "\n",
       "                            breast_cancer_diagnosis_desc  ...   disabled  \\\n",
       "12901  Malig neoplm of upper-outer quadrant of right ...  ...  17.400000   \n",
       "12902  Malignant neoplasm of unspecified site of left...  ...  11.243210   \n",
       "12903  Malignant neoplasm of unspecified site of left...  ...   8.845238   \n",
       "12904  Malignant neoplasm of breast (female), unspeci...  ...  10.194737   \n",
       "12905  Malig neoplasm of upper-outer quadrant of left...  ...  10.988889   \n",
       "\n",
       "         poverty limited_english commute_time health_uninsured   veteran  \\\n",
       "12901  23.600000        0.864706    19.841176         6.300000  6.247059   \n",
       "12902   7.837037        5.411250    34.700000         3.845679  5.671605   \n",
       "12903   8.688095        5.280952    27.561905         4.404762  4.809524   \n",
       "12904  18.642105       14.173684    42.502632         6.392105  1.755263   \n",
       "12905  18.470370       11.777778    24.951852        11.759259  6.577778   \n",
       "\n",
       "           Ozone      PM25        N02  DiagPeriodL90D  \n",
       "12901  38.753055  8.068682  21.140731               1  \n",
       "12902  36.469947  6.265266  10.728732               1  \n",
       "12903  42.070075  7.229393  15.894123               1  \n",
       "12904  37.722740  7.879795  27.496367               0  \n",
       "12905  37.228624  8.652507  16.436409               1  \n",
       "\n",
       "[5 rows x 83 columns]"
      ]
     },
     "execution_count": 30,
     "metadata": {},
     "output_type": "execute_result"
    }
   ],
   "source": [
    "dropping patient_gender"
   ]
  },
  {
   "cell_type": "code",
   "execution_count": 94,
   "id": "8ef49bbc",
   "metadata": {},
   "outputs": [],
   "source": [
    "columns_to_sample = ['patient_id', 'patient_race', 'payer_type', 'patient_state', 'patient_age',\n",
    "                     'breast_cancer_diagnosis_code','patient_gender', 'metastatic_cancer_diagnosis_code', 'metastatic_first_novel_treatment',\n",
    "                      'Region', 'Division', 'population','density', 'Ozone','PM25', 'N02', 'DiagPeriodL90D']\n",
    "\n",
    "\n",
    "sampled_df = df[columns_to_sample]"
   ]
  },
  {
   "cell_type": "code",
   "execution_count": 95,
   "id": "d78ed264",
   "metadata": {},
   "outputs": [
    {
     "data": {
      "text/plain": [
       "patient_id                              0\n",
       "patient_race                         6385\n",
       "payer_type                           1803\n",
       "patient_state                          51\n",
       "patient_age                             0\n",
       "breast_cancer_diagnosis_code            0\n",
       "patient_gender                          0\n",
       "metastatic_cancer_diagnosis_code        0\n",
       "metastatic_first_novel_treatment    12882\n",
       "Region                                 52\n",
       "Division                               52\n",
       "population                              1\n",
       "density                                 1\n",
       "Ozone                                  29\n",
       "PM25                                   29\n",
       "N02                                    29\n",
       "DiagPeriodL90D                          0\n",
       "dtype: int64"
      ]
     },
     "execution_count": 95,
     "metadata": {},
     "output_type": "execute_result"
    }
   ],
   "source": [
    "sampled_df.isnull().sum()"
   ]
  },
  {
   "cell_type": "markdown",
   "id": "1a8cc85d",
   "metadata": {},
   "source": [
    "preprocessing rule: drop the columns with more than 30% missing values in this case we drop patient race, metastatic_first novel treatment"
   ]
  },
  {
   "cell_type": "code",
   "execution_count": 98,
   "id": "b08b260c",
   "metadata": {},
   "outputs": [
    {
     "name": "stderr",
     "output_type": "stream",
     "text": [
      "/var/folders/x8/8bvby9d128q0p10dt1mp3wgh0000gn/T/ipykernel_91796/2486499065.py:1: SettingWithCopyWarning: \n",
      "A value is trying to be set on a copy of a slice from a DataFrame\n",
      "\n",
      "See the caveats in the documentation: https://pandas.pydata.org/pandas-docs/stable/user_guide/indexing.html#returning-a-view-versus-a-copy\n",
      "  sampled_df.drop('patient_race', axis = 1,inplace=True)\n"
     ]
    }
   ],
   "source": [
    "sampled_df.drop('patient_race', axis = 1,inplace=True)\n"
   ]
  },
  {
   "cell_type": "code",
   "execution_count": 118,
   "id": "0af9939b",
   "metadata": {},
   "outputs": [
    {
     "name": "stderr",
     "output_type": "stream",
     "text": [
      "/var/folders/x8/8bvby9d128q0p10dt1mp3wgh0000gn/T/ipykernel_91796/60989584.py:1: SettingWithCopyWarning: \n",
      "A value is trying to be set on a copy of a slice from a DataFrame\n",
      "\n",
      "See the caveats in the documentation: https://pandas.pydata.org/pandas-docs/stable/user_guide/indexing.html#returning-a-view-versus-a-copy\n",
      "  sampled_df.drop('patient_gender', axis = 1,inplace=True)\n"
     ]
    }
   ],
   "source": [
    "sampled_df.drop('patient_gender', axis = 1,inplace=True)\n"
   ]
  },
  {
   "cell_type": "code",
   "execution_count": 105,
   "id": "e688cb0f",
   "metadata": {},
   "outputs": [
    {
     "name": "stderr",
     "output_type": "stream",
     "text": [
      "/var/folders/x8/8bvby9d128q0p10dt1mp3wgh0000gn/T/ipykernel_91796/286433726.py:1: SettingWithCopyWarning: \n",
      "A value is trying to be set on a copy of a slice from a DataFrame\n",
      "\n",
      "See the caveats in the documentation: https://pandas.pydata.org/pandas-docs/stable/user_guide/indexing.html#returning-a-view-versus-a-copy\n",
      "  sampled_df['payer_type'].fillna('UNKNOWN', inplace=True)\n"
     ]
    }
   ],
   "source": [
    "sampled_df['payer_type'].fillna('UNKNOWN', inplace=True)\n"
   ]
  },
  {
   "cell_type": "code",
   "execution_count": 106,
   "id": "6930fa35",
   "metadata": {},
   "outputs": [
    {
     "name": "stdout",
     "output_type": "stream",
     "text": [
      "12906\n",
      "payer_type\n",
      "COMMERCIAL            6032\n",
      "MEDICAID              2569\n",
      "MEDICARE ADVANTAGE    2502\n",
      "UNKNOWN               1803\n",
      "dtype: int64\n"
     ]
    }
   ],
   "source": [
    "payer_type_counts = sampled_df.groupby('payer_type').size()\n",
    "\n",
    "# Print the result\n",
    "print(sum(payer_type_counts))\n",
    "print(payer_type_counts)"
   ]
  },
  {
   "cell_type": "code",
   "execution_count": 57,
   "id": "9a5e89d0",
   "metadata": {},
   "outputs": [
    {
     "name": "stdout",
     "output_type": "stream",
     "text": [
      "24\n"
     ]
    }
   ],
   "source": [
    "non_null_values = df['metastatic_first_novel_treatment'].dropna()\n",
    "\n",
    "# Print non-null values\n",
    "print(len(non_null_values))"
   ]
  },
  {
   "cell_type": "code",
   "execution_count": 102,
   "id": "8138e890",
   "metadata": {},
   "outputs": [],
   "source": [
    "#since the values are so less we have to drop this column too \n",
    "sampled_df.drop('metastatic_first_novel_treatment', axis = 1,inplace=True)"
   ]
  },
  {
   "cell_type": "code",
   "execution_count": 108,
   "id": "c08cf092",
   "metadata": {},
   "outputs": [
    {
     "name": "stdout",
     "output_type": "stream",
     "text": [
      "      patient_id          payer_type patient_state  patient_age  \\\n",
      "8         994014  MEDICARE ADVANTAGE           NaN           82   \n",
      "33        744114             UNKNOWN           NaN           83   \n",
      "316       178547             UNKNOWN           NaN           39   \n",
      "879       472026             UNKNOWN           NaN           79   \n",
      "912       333582            MEDICAID           NaN           66   \n",
      "1180      265749             UNKNOWN           NaN           58   \n",
      "1271      491813             UNKNOWN           NaN           63   \n",
      "1292      988642            MEDICAID           NaN           66   \n",
      "1878      378130             UNKNOWN           NaN           63   \n",
      "2406      160039            MEDICAID           NaN           61   \n",
      "\n",
      "     breast_cancer_diagnosis_code patient_gender  \\\n",
      "8                            1744              F   \n",
      "33                         C50111              F   \n",
      "316                        C50912              F   \n",
      "879                        C50911              F   \n",
      "912                        C50919              F   \n",
      "1180                         1749              F   \n",
      "1271                       C50411              F   \n",
      "1292                       C50911              F   \n",
      "1878                       C50912              F   \n",
      "2406                       C50911              F   \n",
      "\n",
      "     metastatic_cancer_diagnosis_code Region Division    population  \\\n",
      "8                               C7800    NaN      NaN  10110.907690   \n",
      "33                               C773    NaN      NaN  34958.921570   \n",
      "316                              C773    NaN      NaN   7373.672131   \n",
      "879                              C773    NaN      NaN  30701.428570   \n",
      "912                              C773    NaN      NaN  20525.000000   \n",
      "1180                            C7951    NaN      NaN  21449.130430   \n",
      "1271                             C779    NaN      NaN  30092.428570   \n",
      "1292                             C773    NaN      NaN  28244.567570   \n",
      "1878                             C770    NaN      NaN   2817.698795   \n",
      "2406                             C773    NaN      NaN  32045.777780   \n",
      "\n",
      "           density      Ozone      PM25        N02  DiagPeriodL90D  \n",
      "8       240.578462  36.323573  4.744352  10.439314               0  \n",
      "33     1716.927451  34.569793  7.593535  15.271043               1  \n",
      "316     126.463934  40.353886  6.165698  13.785169               0  \n",
      "879    3613.500000  43.390701  9.490371  20.082631               1  \n",
      "912    1218.842857  39.043346  6.205635  26.490223               1  \n",
      "1180    595.486957  46.520384  5.729758  17.403205               0  \n",
      "1271  21172.000000  36.932137  8.187273  26.380270               1  \n",
      "1292    848.864865  38.815047  7.927249  14.553126               1  \n",
      "1878     95.314458  37.814285  4.929433   9.553193               1  \n",
      "2406   3045.050794  34.729989  8.391862  16.166009               1  \n"
     ]
    }
   ],
   "source": [
    "rows_with_nan = sampled_df[sampled_df['patient_state'].isnull()]\n",
    "\n",
    "# Print rows with NaN values in the 'payer_type' column\n",
    "print(rows_with_nan[:10])"
   ]
  },
  {
   "cell_type": "code",
   "execution_count": 107,
   "id": "2b931ddb",
   "metadata": {},
   "outputs": [
    {
     "data": {
      "text/plain": [
       "patient_id                           0\n",
       "payer_type                           0\n",
       "patient_state                       51\n",
       "patient_age                          0\n",
       "breast_cancer_diagnosis_code         0\n",
       "patient_gender                       0\n",
       "metastatic_cancer_diagnosis_code     0\n",
       "Region                              52\n",
       "Division                            52\n",
       "population                           1\n",
       "density                              1\n",
       "Ozone                               29\n",
       "PM25                                29\n",
       "N02                                 29\n",
       "DiagPeriodL90D                       0\n",
       "dtype: int64"
      ]
     },
     "execution_count": 107,
     "metadata": {},
     "output_type": "execute_result"
    }
   ],
   "source": [
    "sampled_df.isnull().sum()"
   ]
  },
  {
   "cell_type": "markdown",
   "id": "61a386d9",
   "metadata": {},
   "source": [
    "it looks like the division and region that were appended didnt know the patient state so they couldnt add their regiion division hence region division and sate are collective null and we can drop these as we cant add missing values to them "
   ]
  },
  {
   "cell_type": "code",
   "execution_count": 111,
   "id": "d5204661",
   "metadata": {},
   "outputs": [],
   "source": [
    "df_without_nulls = sampled_df.dropna(subset=['patient_state'])"
   ]
  },
  {
   "cell_type": "code",
   "execution_count": 112,
   "id": "c7fcf018",
   "metadata": {},
   "outputs": [
    {
     "data": {
      "text/plain": [
       "patient_id                           0\n",
       "payer_type                           0\n",
       "patient_state                        0\n",
       "patient_age                          0\n",
       "breast_cancer_diagnosis_code         0\n",
       "patient_gender                       0\n",
       "metastatic_cancer_diagnosis_code     0\n",
       "Region                               1\n",
       "Division                             1\n",
       "population                           1\n",
       "density                              1\n",
       "Ozone                               28\n",
       "PM25                                28\n",
       "N02                                 28\n",
       "DiagPeriodL90D                       0\n",
       "dtype: int64"
      ]
     },
     "execution_count": 112,
     "metadata": {},
     "output_type": "execute_result"
    }
   ],
   "source": [
    "df_without_nulls.isnull().sum()"
   ]
  },
  {
   "cell_type": "code",
   "execution_count": 113,
   "id": "fa4bab51",
   "metadata": {},
   "outputs": [],
   "source": [
    "sampled_df = sampled_df.dropna(subset=['patient_state','Region','Division','population','density','Ozone','PM25','N02'])"
   ]
  },
  {
   "cell_type": "code",
   "execution_count": 119,
   "id": "63d2a88c",
   "metadata": {},
   "outputs": [
    {
     "data": {
      "text/plain": [
       "patient_id                          0\n",
       "payer_type                          0\n",
       "patient_state                       0\n",
       "patient_age                         0\n",
       "breast_cancer_diagnosis_code        0\n",
       "metastatic_cancer_diagnosis_code    0\n",
       "Region                              0\n",
       "Division                            0\n",
       "population                          0\n",
       "density                             0\n",
       "Ozone                               0\n",
       "PM25                                0\n",
       "N02                                 0\n",
       "DiagPeriodL90D                      0\n",
       "dtype: int64"
      ]
     },
     "execution_count": 119,
     "metadata": {},
     "output_type": "execute_result"
    }
   ],
   "source": [
    "sampled_df.isnull().sum()"
   ]
  },
  {
   "cell_type": "code",
   "execution_count": 120,
   "id": "5c039f83",
   "metadata": {},
   "outputs": [
    {
     "data": {
      "text/html": [
       "<div>\n",
       "<style scoped>\n",
       "    .dataframe tbody tr th:only-of-type {\n",
       "        vertical-align: middle;\n",
       "    }\n",
       "\n",
       "    .dataframe tbody tr th {\n",
       "        vertical-align: top;\n",
       "    }\n",
       "\n",
       "    .dataframe thead th {\n",
       "        text-align: right;\n",
       "    }\n",
       "</style>\n",
       "<table border=\"1\" class=\"dataframe\">\n",
       "  <thead>\n",
       "    <tr style=\"text-align: right;\">\n",
       "      <th></th>\n",
       "      <th>patient_id</th>\n",
       "      <th>payer_type</th>\n",
       "      <th>patient_state</th>\n",
       "      <th>patient_age</th>\n",
       "      <th>breast_cancer_diagnosis_code</th>\n",
       "      <th>metastatic_cancer_diagnosis_code</th>\n",
       "      <th>Region</th>\n",
       "      <th>Division</th>\n",
       "      <th>population</th>\n",
       "      <th>density</th>\n",
       "      <th>Ozone</th>\n",
       "      <th>PM25</th>\n",
       "      <th>N02</th>\n",
       "      <th>DiagPeriodL90D</th>\n",
       "    </tr>\n",
       "  </thead>\n",
       "  <tbody>\n",
       "    <tr>\n",
       "      <th>0</th>\n",
       "      <td>475714</td>\n",
       "      <td>MEDICAID</td>\n",
       "      <td>CA</td>\n",
       "      <td>84</td>\n",
       "      <td>C50919</td>\n",
       "      <td>C7989</td>\n",
       "      <td>West</td>\n",
       "      <td>Pacific</td>\n",
       "      <td>31437.75000</td>\n",
       "      <td>1189.562500</td>\n",
       "      <td>52.237210</td>\n",
       "      <td>8.650555</td>\n",
       "      <td>18.606528</td>\n",
       "      <td>1</td>\n",
       "    </tr>\n",
       "    <tr>\n",
       "      <th>1</th>\n",
       "      <td>349367</td>\n",
       "      <td>COMMERCIAL</td>\n",
       "      <td>CA</td>\n",
       "      <td>62</td>\n",
       "      <td>C50411</td>\n",
       "      <td>C773</td>\n",
       "      <td>West</td>\n",
       "      <td>Pacific</td>\n",
       "      <td>39121.87879</td>\n",
       "      <td>2295.939394</td>\n",
       "      <td>42.301121</td>\n",
       "      <td>8.487175</td>\n",
       "      <td>20.113179</td>\n",
       "      <td>1</td>\n",
       "    </tr>\n",
       "    <tr>\n",
       "      <th>2</th>\n",
       "      <td>138632</td>\n",
       "      <td>COMMERCIAL</td>\n",
       "      <td>TX</td>\n",
       "      <td>43</td>\n",
       "      <td>C50112</td>\n",
       "      <td>C773</td>\n",
       "      <td>South</td>\n",
       "      <td>West South Central</td>\n",
       "      <td>21996.68333</td>\n",
       "      <td>626.236667</td>\n",
       "      <td>40.108207</td>\n",
       "      <td>7.642753</td>\n",
       "      <td>14.839351</td>\n",
       "      <td>1</td>\n",
       "    </tr>\n",
       "    <tr>\n",
       "      <th>3</th>\n",
       "      <td>617843</td>\n",
       "      <td>COMMERCIAL</td>\n",
       "      <td>CA</td>\n",
       "      <td>45</td>\n",
       "      <td>C50212</td>\n",
       "      <td>C773</td>\n",
       "      <td>West</td>\n",
       "      <td>Pacific</td>\n",
       "      <td>32795.32558</td>\n",
       "      <td>1896.220930</td>\n",
       "      <td>42.070075</td>\n",
       "      <td>7.229393</td>\n",
       "      <td>15.894123</td>\n",
       "      <td>0</td>\n",
       "    </tr>\n",
       "    <tr>\n",
       "      <th>4</th>\n",
       "      <td>817482</td>\n",
       "      <td>COMMERCIAL</td>\n",
       "      <td>ID</td>\n",
       "      <td>55</td>\n",
       "      <td>1749</td>\n",
       "      <td>C773</td>\n",
       "      <td>West</td>\n",
       "      <td>Mountain</td>\n",
       "      <td>10886.26000</td>\n",
       "      <td>116.886000</td>\n",
       "      <td>41.356058</td>\n",
       "      <td>4.110749</td>\n",
       "      <td>11.722197</td>\n",
       "      <td>0</td>\n",
       "    </tr>\n",
       "  </tbody>\n",
       "</table>\n",
       "</div>"
      ],
      "text/plain": [
       "   patient_id  payer_type patient_state  patient_age  \\\n",
       "0      475714    MEDICAID            CA           84   \n",
       "1      349367  COMMERCIAL            CA           62   \n",
       "2      138632  COMMERCIAL            TX           43   \n",
       "3      617843  COMMERCIAL            CA           45   \n",
       "4      817482  COMMERCIAL            ID           55   \n",
       "\n",
       "  breast_cancer_diagnosis_code metastatic_cancer_diagnosis_code Region  \\\n",
       "0                       C50919                            C7989   West   \n",
       "1                       C50411                             C773   West   \n",
       "2                       C50112                             C773  South   \n",
       "3                       C50212                             C773   West   \n",
       "4                         1749                             C773   West   \n",
       "\n",
       "             Division   population      density      Ozone      PM25  \\\n",
       "0             Pacific  31437.75000  1189.562500  52.237210  8.650555   \n",
       "1             Pacific  39121.87879  2295.939394  42.301121  8.487175   \n",
       "2  West South Central  21996.68333   626.236667  40.108207  7.642753   \n",
       "3             Pacific  32795.32558  1896.220930  42.070075  7.229393   \n",
       "4            Mountain  10886.26000   116.886000  41.356058  4.110749   \n",
       "\n",
       "         N02  DiagPeriodL90D  \n",
       "0  18.606528               1  \n",
       "1  20.113179               1  \n",
       "2  14.839351               1  \n",
       "3  15.894123               0  \n",
       "4  11.722197               0  "
      ]
     },
     "execution_count": 120,
     "metadata": {},
     "output_type": "execute_result"
    }
   ],
   "source": [
    "sampled_df.head()"
   ]
  },
  {
   "cell_type": "code",
   "execution_count": 121,
   "id": "6de7f4d8",
   "metadata": {},
   "outputs": [
    {
     "data": {
      "text/plain": [
       "(12825, 14)"
      ]
     },
     "execution_count": 121,
     "metadata": {},
     "output_type": "execute_result"
    }
   ],
   "source": [
    "sampled_df.shape"
   ]
  },
  {
   "cell_type": "code",
   "execution_count": 122,
   "id": "cc2f1300",
   "metadata": {},
   "outputs": [
    {
     "data": {
      "text/plain": [
       "patient_id                            int64\n",
       "payer_type                           object\n",
       "patient_state                        object\n",
       "patient_age                           int64\n",
       "breast_cancer_diagnosis_code         object\n",
       "metastatic_cancer_diagnosis_code     object\n",
       "Region                               object\n",
       "Division                             object\n",
       "population                          float64\n",
       "density                             float64\n",
       "Ozone                               float64\n",
       "PM25                                float64\n",
       "N02                                 float64\n",
       "DiagPeriodL90D                        int64\n",
       "dtype: object"
      ]
     },
     "execution_count": 122,
     "metadata": {},
     "output_type": "execute_result"
    }
   ],
   "source": [
    "sampled_df.dtypes"
   ]
  },
  {
   "cell_type": "code",
   "execution_count": 124,
   "id": "946db568",
   "metadata": {},
   "outputs": [
    {
     "name": "stdout",
     "output_type": "stream",
     "text": [
      "       patient_id  patient_age     Region            Division   population  \\\n",
      "0          475714           84       West             Pacific  31437.75000   \n",
      "1          349367           62       West             Pacific  39121.87879   \n",
      "2          138632           43      South  West South Central  21996.68333   \n",
      "3          617843           45       West             Pacific  32795.32558   \n",
      "4          817482           55       West            Mountain  10886.26000   \n",
      "...           ...          ...        ...                 ...          ...   \n",
      "12901      674178           50    Midwest  East North Central  19413.05882   \n",
      "12902      452909           50       West             Pacific  30153.87952   \n",
      "12903      357486           61       West             Pacific  32795.32558   \n",
      "12904      935417           37  Northeast     Middle Atlantic  71374.13158   \n",
      "12905      179597           29      South      South Atlantic  30205.48148   \n",
      "\n",
      "            density      Ozone      PM25        N02  DiagPeriodL90D  ...  \\\n",
      "0       1189.562500  52.237210  8.650555  18.606528               1  ...   \n",
      "1       2295.939394  42.301121  8.487175  20.113179               1  ...   \n",
      "2        626.236667  40.108207  7.642753  14.839351               1  ...   \n",
      "3       1896.220930  42.070075  7.229393  15.894123               0  ...   \n",
      "4        116.886000  41.356058  4.110749  11.722197               0  ...   \n",
      "...             ...        ...       ...        ...             ...  ...   \n",
      "12901   1196.805882  38.753055  8.068682  21.140731               1  ...   \n",
      "12902    976.289157  36.469947  6.265266  10.728732               1  ...   \n",
      "12903   1896.220930  42.070075  7.229393  15.894123               1  ...   \n",
      "12904  17326.407890  37.722740  7.879795  27.496367               0  ...   \n",
      "12905   1517.174074  37.228624  8.652507  16.436409               1  ...   \n",
      "\n",
      "       metastatic_cancer_diagnosis_code_C7960  \\\n",
      "0                                       False   \n",
      "1                                       False   \n",
      "2                                       False   \n",
      "3                                       False   \n",
      "4                                       False   \n",
      "...                                       ...   \n",
      "12901                                   False   \n",
      "12902                                   False   \n",
      "12903                                   False   \n",
      "12904                                   False   \n",
      "12905                                   False   \n",
      "\n",
      "       metastatic_cancer_diagnosis_code_C7961  \\\n",
      "0                                       False   \n",
      "1                                       False   \n",
      "2                                       False   \n",
      "3                                       False   \n",
      "4                                       False   \n",
      "...                                       ...   \n",
      "12901                                   False   \n",
      "12902                                   False   \n",
      "12903                                   False   \n",
      "12904                                   False   \n",
      "12905                                   False   \n",
      "\n",
      "       metastatic_cancer_diagnosis_code_C7962  \\\n",
      "0                                       False   \n",
      "1                                       False   \n",
      "2                                       False   \n",
      "3                                       False   \n",
      "4                                       False   \n",
      "...                                       ...   \n",
      "12901                                   False   \n",
      "12902                                   False   \n",
      "12903                                   False   \n",
      "12904                                   False   \n",
      "12905                                   False   \n",
      "\n",
      "       metastatic_cancer_diagnosis_code_C7970  \\\n",
      "0                                       False   \n",
      "1                                       False   \n",
      "2                                       False   \n",
      "3                                       False   \n",
      "4                                       False   \n",
      "...                                       ...   \n",
      "12901                                   False   \n",
      "12902                                   False   \n",
      "12903                                   False   \n",
      "12904                                   False   \n",
      "12905                                   False   \n",
      "\n",
      "       metastatic_cancer_diagnosis_code_C7971  \\\n",
      "0                                       False   \n",
      "1                                       False   \n",
      "2                                       False   \n",
      "3                                       False   \n",
      "4                                       False   \n",
      "...                                       ...   \n",
      "12901                                   False   \n",
      "12902                                   False   \n",
      "12903                                   False   \n",
      "12904                                   False   \n",
      "12905                                   False   \n",
      "\n",
      "       metastatic_cancer_diagnosis_code_C7972  \\\n",
      "0                                       False   \n",
      "1                                       False   \n",
      "2                                       False   \n",
      "3                                       False   \n",
      "4                                       False   \n",
      "...                                       ...   \n",
      "12901                                   False   \n",
      "12902                                   False   \n",
      "12903                                   False   \n",
      "12904                                   False   \n",
      "12905                                   False   \n",
      "\n",
      "       metastatic_cancer_diagnosis_code_C7981  \\\n",
      "0                                       False   \n",
      "1                                       False   \n",
      "2                                       False   \n",
      "3                                       False   \n",
      "4                                       False   \n",
      "...                                       ...   \n",
      "12901                                   False   \n",
      "12902                                   False   \n",
      "12903                                   False   \n",
      "12904                                   False   \n",
      "12905                                   False   \n",
      "\n",
      "       metastatic_cancer_diagnosis_code_C7982  \\\n",
      "0                                       False   \n",
      "1                                       False   \n",
      "2                                       False   \n",
      "3                                       False   \n",
      "4                                       False   \n",
      "...                                       ...   \n",
      "12901                                   False   \n",
      "12902                                   False   \n",
      "12903                                   False   \n",
      "12904                                   False   \n",
      "12905                                   False   \n",
      "\n",
      "       metastatic_cancer_diagnosis_code_C7989  \\\n",
      "0                                        True   \n",
      "1                                       False   \n",
      "2                                       False   \n",
      "3                                       False   \n",
      "4                                       False   \n",
      "...                                       ...   \n",
      "12901                                   False   \n",
      "12902                                   False   \n",
      "12903                                   False   \n",
      "12904                                   False   \n",
      "12905                                   False   \n",
      "\n",
      "       metastatic_cancer_diagnosis_code_C799  \n",
      "0                                      False  \n",
      "1                                      False  \n",
      "2                                      False  \n",
      "3                                      False  \n",
      "4                                      False  \n",
      "...                                      ...  \n",
      "12901                                  False  \n",
      "12902                                  False  \n",
      "12903                                  False  \n",
      "12904                                  False  \n",
      "12905                                  False  \n",
      "\n",
      "[12825 rows x 154 columns]\n"
     ]
    }
   ],
   "source": [
    "#we can use one hot encoding for payer type, patient state, and codes\n",
    "# Assuming df is your DataFrame\n",
    "# Define the columns to be one-hot encoded\n",
    "columns_to_encode = ['payer_type', 'patient_state', 'breast_cancer_diagnosis_code', 'metastatic_cancer_diagnosis_code']\n",
    "\n",
    "# Apply one-hot encoding\n",
    "df_encoded = pd.get_dummies(sampled_df, columns=columns_to_encode)\n",
    "\n",
    "# Print the encoded DataFrame\n",
    "\n"
   ]
  },
  {
   "cell_type": "code",
   "execution_count": 134,
   "id": "cccff7a0",
   "metadata": {},
   "outputs": [
    {
     "name": "stdout",
     "output_type": "stream",
     "text": [
      "12825\n"
     ]
    }
   ],
   "source": [
    "states = sampled_df.groupby('breast_cancer_diagnosis_code').size()\n",
    "print(sum(states))"
   ]
  },
  {
   "cell_type": "code",
   "execution_count": null,
   "id": "26325d25",
   "metadata": {},
   "outputs": [],
   "source": []
  },
  {
   "cell_type": "code",
   "execution_count": null,
   "id": "6078b3f8",
   "metadata": {},
   "outputs": [],
   "source": []
  },
  {
   "cell_type": "code",
   "execution_count": null,
   "id": "601a7c91",
   "metadata": {},
   "outputs": [],
   "source": []
  }
 ],
 "metadata": {
  "kernelspec": {
   "display_name": "Python 3 (ipykernel)",
   "language": "python",
   "name": "python3"
  },
  "language_info": {
   "codemirror_mode": {
    "name": "ipython",
    "version": 3
   },
   "file_extension": ".py",
   "mimetype": "text/x-python",
   "name": "python",
   "nbconvert_exporter": "python",
   "pygments_lexer": "ipython3",
   "version": "3.11.5"
  }
 },
 "nbformat": 4,
 "nbformat_minor": 5
}
